{
 "cells": [
  {
   "cell_type": "markdown",
   "metadata": {},
   "source": [
    "# TransNet: A deep network for fast detection of common shot transitions\n",
    "This repository contains code for paper *TransNet: A deep network for fast detection of common shot transitions*.\n",
    "\n",
    "If you use it in your work, please cite:\n",
    "\n",
    "\n",
    "    @article{soucek2019transnet,\n",
    "        title={TransNet: A deep network for fast detection of common shot transitions},\n",
    "        author={Sou{\\v{c}}ek, Tom{\\'a}{\\v{s}} and Moravec, Jaroslav and Loko{\\v{c}}, Jakub},\n",
    "        journal={arXiv preprint arXiv:1906.03363},\n",
    "        year={2019}\n",
    "    }"
   ]
  },
  {
   "cell_type": "markdown",
   "metadata": {},
   "source": [
    "## How to use it?\n",
    "\n",
    "Firstly, *tensorflow* needs to be installed.\n",
    "Do so by doing:\n",
    "\n",
    "    pip install tensorflow\n",
    "\n",
    "If you want to run **TransNet** directly on video files, *ffmpeg* needs to be installed as well:\n",
    "\n",
    "    pip install ffmpeg-python\n",
    "\n",
    "You can also install *pillow* for visualization:\n",
    "\n",
    "    pip install pillow\n",
    "\n",
    "    \n",
    "Tested with *tensorflow* v1.12.0."
   ]
  },
  {
   "cell_type": "code",
   "execution_count": null,
   "metadata": {},
   "outputs": [],
   "source": [
    "!pip install tensorflow\n",
    "!pip install ffmpeg-python\n",
    "!pip install pillow"
   ]
  },
  {
   "cell_type": "code",
   "execution_count": 1,
   "metadata": {
    "scrolled": true
   },
   "outputs": [
    {
     "name": "stdout",
     "output_type": "stream",
     "text": [
      "WARNING:tensorflow:From C:\\Users\\jackg\\anaconda3\\lib\\site-packages\\tensorflow\\python\\compat\\v2_compat.py:96: disable_resource_variables (from tensorflow.python.ops.variable_scope) is deprecated and will be removed in a future version.\n",
      "Instructions for updating:\n",
      "non-resource variables are not supported in the long term\n"
     ]
    }
   ],
   "source": [
    "import ffmpeg\n",
    "import numpy as np\n",
    "import tensorflow as tf\n",
    "\n",
    "from transnet import TransNetParams, TransNet\n",
    "from transnet_utils import draw_video_with_predictions, scenes_from_predictions"
   ]
  },
  {
   "cell_type": "code",
   "execution_count": 2,
   "metadata": {},
   "outputs": [
    {
     "name": "stdout",
     "output_type": "stream",
     "text": [
      "[TransNet] Creating ops.\n",
      "           Input (?, ?, 27, 48, 3)\n",
      "           SDDCNN_1\n",
      "           > DDCNN_1 (?, ?, 27, 48, 64)\n",
      "           > DDCNN_2 (?, ?, 27, 48, 64)\n",
      "           MaxPool (?, ?, 13, 24, 64)\n",
      "           SDDCNN_2\n",
      "           > DDCNN_1 (?, ?, 13, 24, 128)\n",
      "           > DDCNN_2 (?, ?, 13, 24, 128)\n",
      "           MaxPool (?, ?, 6, 12, 128)\n",
      "           SDDCNN_3\n",
      "           > DDCNN_1 (?, ?, 6, 12, 256)\n",
      "           > DDCNN_2 (?, ?, 6, 12, 256)\n",
      "           MaxPool (?, ?, 3, 6, 256)\n",
      "           Flatten (?, ?, 4608)\n",
      "           Dense (?, ?, 256)\n",
      "           Logits (?, ?, 2)\n",
      "           Predictions (?, ?, 6, 12, 64)\n",
      "[TransNet] Network built.\n",
      "[TransNet] Found 4614850 trainable parameters.\n",
      "INFO:tensorflow:Restoring parameters from ./model/transnet_model-F16_L3_S2_D256\n",
      "[TransNet] Parameters restored from 'transnet_model-F16_L3_S2_D256'.\n"
     ]
    }
   ],
   "source": [
    "# initialize the network\n",
    "params = TransNetParams()\n",
    "params.CHECKPOINT_PATH = \"./model/transnet_model-F16_L3_S2_D256\"\n",
    "\n",
    "net = TransNet(params)"
   ]
  },
  {
   "cell_type": "code",
   "execution_count": 3,
   "metadata": {},
   "outputs": [],
   "source": [
    "# export video into numpy array using ffmpeg\n",
    "video_stream, err = (\n",
    "    ffmpeg\n",
    "    .input('test.mp4')\n",
    "    .output('pipe:', format='rawvideo', pix_fmt='rgb24', s='{}x{}'.format(params.INPUT_WIDTH, params.INPUT_HEIGHT))\n",
    "    .run(capture_stdout=True)\n",
    ")\n",
    "video = np.frombuffer(video_stream, np.uint8).reshape([-1, params.INPUT_HEIGHT, params.INPUT_WIDTH, 3])"
   ]
  },
  {
   "cell_type": "code",
   "execution_count": 4,
   "metadata": {},
   "outputs": [
    {
     "name": "stdout",
     "output_type": "stream",
     "text": [
      "<class 'numpy.ndarray'>\n",
      "[TransNet] Processing video frames 50/544<class 'numpy.ndarray'>\n",
      "[TransNet] Processing video frames 100/544<class 'numpy.ndarray'>\n",
      "[TransNet] Processing video frames 150/544<class 'numpy.ndarray'>\n",
      "[TransNet] Processing video frames 200/544<class 'numpy.ndarray'>\n",
      "[TransNet] Processing video frames 250/544<class 'numpy.ndarray'>\n",
      "[TransNet] Processing video frames 300/544<class 'numpy.ndarray'>\n",
      "[TransNet] Processing video frames 350/544<class 'numpy.ndarray'>\n",
      "[TransNet] Processing video frames 400/544<class 'numpy.ndarray'>\n",
      "[TransNet] Processing video frames 450/544<class 'numpy.ndarray'>\n",
      "[TransNet] Processing video frames 500/544<class 'numpy.ndarray'>\n",
      "[TransNet] Processing video frames 544/544\n"
     ]
    }
   ],
   "source": [
    "# predict transitions using the neural network\n",
    "predictions = net.predict_video(video)"
   ]
  },
  {
   "cell_type": "code",
   "execution_count": 5,
   "metadata": {},
   "outputs": [
    {
     "name": "stdout",
     "output_type": "stream",
     "text": [
      "(544, 6, 12, 64)\n"
     ]
    }
   ],
   "source": [
    "print(predictions.shape)"
   ]
  },
  {
   "cell_type": "code",
   "execution_count": 8,
   "metadata": {
    "scrolled": false
   },
   "outputs": [
    {
     "data": {
      "image/png": "[encoded data removed]",
      "text/plain": [
       "<Figure size 432x288 with 64 Axes>"
      ]
     },
     "metadata": {},
     "output_type": "display_data"
    }
   ],
   "source": [
    "# plot all 64 maps in an 8x8 squares\n",
    "from matplotlib import pyplot as plt\n",
    "square = 8\n",
    "ix = 1\n",
    "for _ in range(square):\n",
    "\tfor _ in range(square):\n",
    "\t\t# specify subplot and turn of axis\n",
    "\t\tax = plt.subplot(square, square, ix)\n",
    "\t\tax.set_xticks([])\n",
    "\t\tax.set_yticks([])\n",
    "\t\t# plot filter channel in grayscale\n",
    "\t\tplt.imshow(predictions[520, :, :, ix-1])\n",
    "        #plt.imshow(predictions[0, :, :, ix-1])\n",
    "\t\tix += 1\n",
    "# show the figure\n",
    "plt.show()"
   ]
  },
  {
   "cell_type": "code",
   "execution_count": null,
   "metadata": {},
   "outputs": [],
   "source": [
    "# from matplotlib import pyplot as plt\n",
    "\n",
    "# plt.plot(predictions, marker='o', linestyle='--')\n",
    "# #plt.xlim(0,100)\n",
    "# plt.show()"
   ]
  },
  {
   "cell_type": "markdown",
   "metadata": {},
   "source": [
    "## Visualize results\n",
    "\n",
    "Function `draw_video_with_predictions` displays all video frames with confidence bars for each frame. The green bar is considered as detected shot boundary (predicted value exceeds the threshold), the red bar is shown otherwise.\n",
    "\n",
    "Function `scenes_from_predictions` returns a list of scenes for a given video. Each scene is defined as a tuple of (start frame, end frame).\n",
    "\n",
    "As described in the paper, the threshold of `0.1` is used."
   ]
  },
  {
   "cell_type": "code",
   "execution_count": null,
   "metadata": {
    "scrolled": false
   },
   "outputs": [],
   "source": [
    "# # For ilustration purposes, we show only 200 frames starting with frame number 8000.\n",
    "# draw_video_with_predictions(video[:], predictions[:], threshold=0.1)"
   ]
  },
  {
   "cell_type": "code",
   "execution_count": null,
   "metadata": {
    "scrolled": false
   },
   "outputs": [],
   "source": [
    "# # Generate list of scenes from predictions, returns tuples of (start frame, end frame)\n",
    "# scenes = scenes_from_predictions(predictions, threshold=0.1)\n",
    "\n",
    "# # For ilustration purposes, only the visualized scenes are shown.\n",
    "# scenes[:]"
   ]
  },
  {
   "cell_type": "code",
   "execution_count": null,
   "metadata": {},
   "outputs": [],
   "source": []
  }
 ],
 "metadata": {
  "kernelspec": {
   "display_name": "Python 3",
   "language": "python",
   "name": "python3"
  },
  "language_info": {
   "codemirror_mode": {
    "name": "ipython",
    "version": 3
   },
   "file_extension": ".py",
   "mimetype": "text/x-python",
   "name": "python",
   "nbconvert_exporter": "python",
   "pygments_lexer": "ipython3",
   "version": "3.8.5"
  }
 },
 "nbformat": 4,
 "nbformat_minor": 2
}
